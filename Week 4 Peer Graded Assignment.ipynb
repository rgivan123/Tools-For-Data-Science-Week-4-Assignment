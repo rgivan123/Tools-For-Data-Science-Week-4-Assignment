{
 "cells": [
  {
   "cell_type": "markdown",
   "id": "75d44b8e-1866-48fe-b3fd-c2ec3994b298",
   "metadata": {
    "tags": []
   },
   "source": [
    "# My Jupyter Notebook on IBM Watson Studio"
   ]
  },
  {
   "cell_type": "markdown",
   "id": "d2dd392e-fd33-4185-a8b4-f937f923f693",
   "metadata": {},
   "source": [
    "Ryan Givan, PE  \n",
    "Occupation: Reservoir Engineer"
   ]
  },
  {
   "cell_type": "markdown",
   "id": "d5c2a0c8-112e-49ea-be4b-9696d1b5623f",
   "metadata": {},
   "source": [
    "_I am interested in data science because I deal with an enormous amount of data of all types on a regular basis, and I desire to leverage better data analysis techniques in a more efficient manner. I aim to improve my current data analysis workflow in order to draw new insights from the data as well as present such insights in a more effective way._"
   ]
  },
  {
   "cell_type": "markdown",
   "id": "a4113192-8427-4de1-81d9-2822e190a458",
   "metadata": {},
   "source": [
    "### This code calculates the Solution Gas-Oil-Ratio of a Black Oil using the Vasquez & Beggs Correlation. It then tests the code with dummy data."
   ]
  },
  {
   "cell_type": "code",
   "execution_count": 1,
   "id": "c1f4f08c-22b2-4d6b-a426-2a2e2620697f",
   "metadata": {
    "tags": []
   },
   "outputs": [],
   "source": [
    "import pandas as pd\n",
    "import numpy as np\n",
    "\n",
    "def GasOilRatio(pressure, Pressure_BP, Gas_Gravity, Temp, API, Rsb):       # Defining the function and variables\n",
    "    GOR_Array = []                                                         # Initialize Output Array\n",
    "    \n",
    "    for i in range(len(pressure)):                                         # Looping for the number of entries in the pressure array\n",
    "        if pressure[i] < Pressure_BP[i]:\n",
    "                 \n",
    "            if API[i] <= 30:\n",
    "                c1 = 0.0362\n",
    "                c2 = 1.0937\n",
    "                c3 = 25.724\n",
    "                 \n",
    "            if API[i] > 30:\n",
    "                c1 = 0.0178\n",
    "                c2 = 1.187\n",
    "                c3 = 23.931\n",
    "            \n",
    "            # Append to GOR Array for criteria set 1\n",
    "            GOR_Array.append(c1 * Gas_Gravity[i] * (pressure[i] ** c2) * np.exp(c3 * (API[i]/(Temp[i] + 460))))\n",
    "                \n",
    "        if pressure[i] >= Pressure_BP[i]:\n",
    "            GOR_Array.append(Rsb[i])                                        # Append to GOR Array for criteria set 2\n",
    "            \n",
    "    return GOR_Array"
   ]
  },
  {
   "cell_type": "code",
   "execution_count": null,
   "id": "aa7dd488-b64a-4a43-96d4-cd8ba5bc9f5b",
   "metadata": {
    "tags": []
   },
   "outputs": [
    {
     "data": {
      "text/html": [
       "<div>\n",
       "<style scoped>\n",
       "    .dataframe tbody tr th:only-of-type {\n",
       "        vertical-align: middle;\n",
       "    }\n",
       "\n",
       "    .dataframe tbody tr th {\n",
       "        vertical-align: top;\n",
       "    }\n",
       "\n",
       "    .dataframe thead th {\n",
       "        text-align: right;\n",
       "    }\n",
       "</style>\n",
       "<table border=\"1\" class=\"dataframe\">\n",
       "  <thead>\n",
       "    <tr style=\"text-align: right;\">\n",
       "      <th></th>\n",
       "      <th>pressure_TEST</th>\n",
       "      <th>Pressure_BP_TEST</th>\n",
       "      <th>Gas_Gravity_TEST</th>\n",
       "      <th>Temp_TEST</th>\n",
       "      <th>API_TEST</th>\n",
       "      <th>Rsb_TEST</th>\n",
       "    </tr>\n",
       "  </thead>\n",
       "  <tbody>\n",
       "    <tr>\n",
       "      <th>0</th>\n",
       "      <td>2100</td>\n",
       "      <td>3200</td>\n",
       "      <td>0.8</td>\n",
       "      <td>137</td>\n",
       "      <td>25</td>\n",
       "      <td>1500</td>\n",
       "    </tr>\n",
       "    <tr>\n",
       "      <th>1</th>\n",
       "      <td>4000</td>\n",
       "      <td>3200</td>\n",
       "      <td>0.9</td>\n",
       "      <td>205</td>\n",
       "      <td>40</td>\n",
       "      <td>1500</td>\n",
       "    </tr>\n",
       "    <tr>\n",
       "      <th>2</th>\n",
       "      <td>3500</td>\n",
       "      <td>3200</td>\n",
       "      <td>1.0</td>\n",
       "      <td>175</td>\n",
       "      <td>31</td>\n",
       "      <td>1500</td>\n",
       "    </tr>\n",
       "  </tbody>\n",
       "</table>\n",
       "</div>"
      ],
      "text/plain": [
       "   pressure_TEST  Pressure_BP_TEST  Gas_Gravity_TEST  Temp_TEST  API_TEST  \\\n",
       "0           2100              3200               0.8        137        25   \n",
       "1           4000              3200               0.9        205        40   \n",
       "2           3500              3200               1.0        175        31   \n",
       "\n",
       "   Rsb_TEST  \n",
       "0      1500  \n",
       "1      1500  \n",
       "2      1500  "
      ]
     },
     "execution_count": 2,
     "metadata": {},
     "output_type": "execute_result"
    }
   ],
   "source": [
    "# Test function by bring in arbitrary values into the data frame\n",
    "df = pd.DataFrame({'pressure_TEST': [2100, 4000, 3500], \n",
    "                  'Pressure_BP_TEST': [3200, 3200, 3200],\n",
    "                  'Gas_Gravity_TEST': [0.8, 0.9, 1],\n",
    "                  'Temp_TEST': [137, 205, 175],\n",
    "                  'API_TEST': [25, 40, 31],\n",
    "                  'Rsb_TEST': [1500, 1500, 1500]})\n",
    "df"
   ]
  },
  {
   "cell_type": "code",
   "execution_count": 3,
   "id": "60865a66-7ebf-40d3-bca2-5e0f7c87c444",
   "metadata": {
    "tags": []
   },
   "outputs": [
    {
     "data": {
      "text/html": [
       "<div>\n",
       "<style scoped>\n",
       "    .dataframe tbody tr th:only-of-type {\n",
       "        vertical-align: middle;\n",
       "    }\n",
       "\n",
       "    .dataframe tbody tr th {\n",
       "        vertical-align: top;\n",
       "    }\n",
       "\n",
       "    .dataframe thead th {\n",
       "        text-align: right;\n",
       "    }\n",
       "</style>\n",
       "<table border=\"1\" class=\"dataframe\">\n",
       "  <thead>\n",
       "    <tr style=\"text-align: right;\">\n",
       "      <th></th>\n",
       "      <th>pressure_TEST</th>\n",
       "      <th>Pressure_BP_TEST</th>\n",
       "      <th>Gas_Gravity_TEST</th>\n",
       "      <th>Temp_TEST</th>\n",
       "      <th>API_TEST</th>\n",
       "      <th>Rsb_TEST</th>\n",
       "      <th>GOR_TEST</th>\n",
       "    </tr>\n",
       "  </thead>\n",
       "  <tbody>\n",
       "    <tr>\n",
       "      <th>0</th>\n",
       "      <td>2100</td>\n",
       "      <td>3200</td>\n",
       "      <td>0.8</td>\n",
       "      <td>137</td>\n",
       "      <td>25</td>\n",
       "      <td>1500</td>\n",
       "      <td>365.712879</td>\n",
       "    </tr>\n",
       "    <tr>\n",
       "      <th>1</th>\n",
       "      <td>4000</td>\n",
       "      <td>3200</td>\n",
       "      <td>0.9</td>\n",
       "      <td>205</td>\n",
       "      <td>40</td>\n",
       "      <td>1500</td>\n",
       "      <td>1500.000000</td>\n",
       "    </tr>\n",
       "    <tr>\n",
       "      <th>2</th>\n",
       "      <td>3500</td>\n",
       "      <td>3200</td>\n",
       "      <td>1.0</td>\n",
       "      <td>175</td>\n",
       "      <td>31</td>\n",
       "      <td>1500</td>\n",
       "      <td>1500.000000</td>\n",
       "    </tr>\n",
       "  </tbody>\n",
       "</table>\n",
       "</div>"
      ],
      "text/plain": [
       "   pressure_TEST  Pressure_BP_TEST  Gas_Gravity_TEST  Temp_TEST  API_TEST  \\\n",
       "0           2100              3200               0.8        137        25   \n",
       "1           4000              3200               0.9        205        40   \n",
       "2           3500              3200               1.0        175        31   \n",
       "\n",
       "   Rsb_TEST     GOR_TEST  \n",
       "0      1500   365.712879  \n",
       "1      1500  1500.000000  \n",
       "2      1500  1500.000000  "
      ]
     },
     "execution_count": 3,
     "metadata": {},
     "output_type": "execute_result"
    }
   ],
   "source": [
    "# Assign variables to columns now in data frame\n",
    "cols = df.columns\n",
    "\n",
    "pressure_TEST     = df[cols[0]]\n",
    "Pressure_BP_TEST  = df[cols[1]]\n",
    "Gas_Gravity_TEST  = df[cols[2]]\n",
    "Temp_TEST         = df[cols[3]]\n",
    "API_TEST          = df[cols[4]]\n",
    "Rsb_TEST          = df[cols[5]]\n",
    "\n",
    "# Output function and force into new column in data frame\n",
    "df['GOR_TEST'] = GasOilRatio(pressure_TEST, Pressure_BP_TEST, Gas_Gravity_TEST, Temp_TEST, API_TEST, Rsb_TEST)    \n",
    "df"
   ]
  },
  {
   "cell_type": "markdown",
   "id": "5ea1c195-99e4-4aee-9f9b-2e52eba72630",
   "metadata": {},
   "source": [
    "#### Variables in the Vazquez-Beggs GOR Correlation\n",
    "---------------------------------------------------\n",
    "1. `Pressure`\n",
    "  - Current Reservoir Pressure (pressure)\n",
    "  - Reservoir Bubble Point (Pressure_BP)\n",
    "2. `Gas Specific Gravity` (Gas_Gravity) \n",
    "3. `Reservoir Temperature` (Temp)\n",
    "4. `Oil API Gravity` (API)\n",
    "5. `Solution GOR at Bubble Point` (Rsb)\n",
    "\n",
    "#### Output\n",
    "------------\n",
    "`Solution Gas-Oil-Ratio at Current Reservoir Conditions` (GOR)\n",
    "\n",
    "**[Additional Info Regarding Oil and Gas PVT Correlations]: https://www.ihsenergy.ca/support/documentation_ca/Harmony_Enterprise/2019_3/content/html_files/ref_materials/calculations/oil_correlations.htm#:~:text=Vasquez%20and%20Beggs%20is%20a%20generally%20applicable%20correlation,analyses%20gathered%20from%20fields%20all%20over%20the%20world.**\n"
   ]
  }
 ],
 "metadata": {
  "kernelspec": {
   "display_name": "Python 3 (ipykernel)",
   "language": "python",
   "name": "python3"
  },
  "language_info": {
   "codemirror_mode": {
    "name": "ipython",
    "version": 3
   },
   "file_extension": ".py",
   "mimetype": "text/x-python",
   "name": "python",
   "nbconvert_exporter": "python",
   "pygments_lexer": "ipython3",
   "version": "3.9.13"
  }
 },
 "nbformat": 4,
 "nbformat_minor": 5
}
